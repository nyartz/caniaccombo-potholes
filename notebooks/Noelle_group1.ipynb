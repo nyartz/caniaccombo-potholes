{
  "nbformat": 4,
  "nbformat_minor": 0,
  "metadata": {
    "colab": {
      "provenance": []
    },
    "kernelspec": {
      "name": "python3",
      "display_name": "Python 3"
    },
    "language_info": {
      "name": "python"
    }
  },
  "cells": [
    {
      "cell_type": "code",
      "execution_count": 2,
      "metadata": {
        "colab": {
          "base_uri": "https://localhost:8080/"
        },
        "id": "tYnvoaFh4LLv",
        "outputId": "45c55d1a-8509-460c-9f3e-96a20e28ae6d"
      },
      "outputs": [
        {
          "output_type": "stream",
          "name": "stdout",
          "text": [
            "coding is fun\n"
          ]
        }
      ],
      "source": [
        "print('coding is fun')"
      ]
    }
  ]
}